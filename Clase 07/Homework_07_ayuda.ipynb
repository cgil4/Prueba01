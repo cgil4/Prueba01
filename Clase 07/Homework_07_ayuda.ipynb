{
 "cells": [
  {
   "cell_type": "markdown",
   "metadata": {},
   "source": [
    "# Práctica Clase 7"
   ]
  },
  {
   "cell_type": "markdown",
   "metadata": {},
   "source": [
    "1) Diseñar una clase que permita trabajar con un árbol binario y que contenga los métodos:<br>\n",
    "    * insertaVal: para insertar un dato<br>\n",
    "    * buscaVal: que devuelva True o False si existe o no un dato<br>\n",
    "    * verVal: que imprima por pantalla los valores del árbol<br>\n",
    "\n",
    "Nota: Se puede utilizar la recursividad\n"
   ]
  },
  {
   "cell_type": "code",
   "execution_count": 12,
   "metadata": {},
   "outputs": [],
   "source": [
    "class Nodo:\n",
    "   def __init__(self, dato):\n",
    "      self.dato = dato\n",
    "      self.izq = None\n",
    "      self.der = None\n",
    "\n",
    "   def insertVal(self, dato):\n",
    "      if dato < self.dato:\n",
    "         if self.izq == None:\n",
    "            self.izq = Nodo(dato)\n",
    "         else:\n",
    "            self.izq.insertVal(dato)\n",
    "      elif dato > self.dato:\n",
    "         if self.der == None:\n",
    "            self.der = Nodo(dato)\n",
    "         else:\n",
    "            self.der.insertVal(dato)\n",
    "      else:\n",
    "         print(\"Valor repetido\")\n",
    "   \n",
    "\n",
    "   def buscarVal(self,bus_val):\n",
    "      if bus_val < self.dato:\n",
    "         if self.izq == None:\n",
    "            return False\n",
    "         return self.izq.buscarVal(bus_val)\n",
    "      elif bus_val > self.dato:\n",
    "         if self.der == None:\n",
    "            return False\n",
    "         return self.der.buscarVal(bus_val)\n",
    "      else:\n",
    "         return True\n",
    "\n",
    "   def verVals(self):\n",
    "      if self.der: self.der.verVals()\n",
    "      print(self.dato)\n",
    "      if self.izq: self.izq.verVals()\n",
    "\n",
    "\n",
    "\n",
    "   \n"
   ]
  },
  {
   "cell_type": "code",
   "execution_count": 15,
   "metadata": {},
   "outputs": [
    {
     "name": "stdout",
     "output_type": "stream",
     "text": [
      "9\n",
      "8\n",
      "6\n",
      "4\n",
      "3\n",
      "2\n"
     ]
    }
   ],
   "source": [
    "raiz= Nodo(8)\n",
    "raiz.insertVal(3)\n",
    "raiz.insertVal(2)\n",
    "raiz.insertVal(4)\n",
    "raiz.insertVal(6)\n",
    "raiz.insertVal(9)\n",
    "raiz.buscarVal(5)\n",
    "raiz.buscarVal(6)\n",
    "raiz.verVals()"
   ]
  },
  {
   "cell_type": "code",
   "execution_count": null,
   "metadata": {},
   "outputs": [],
   "source": []
  }
 ],
 "metadata": {
  "kernelspec": {
   "display_name": "Python 3.10.5 64-bit",
   "language": "python",
   "name": "python3"
  },
  "language_info": {
   "codemirror_mode": {
    "name": "ipython",
    "version": 3
   },
   "file_extension": ".py",
   "mimetype": "text/x-python",
   "name": "python",
   "nbconvert_exporter": "python",
   "pygments_lexer": "ipython3",
   "version": "3.10.5"
  },
  "vscode": {
   "interpreter": {
    "hash": "27f6fea6f47ae512550f0b8facdbd035a93e1dd89633f7bf2dd00a2502c71d0d"
   }
  }
 },
 "nbformat": 4,
 "nbformat_minor": 4
}
