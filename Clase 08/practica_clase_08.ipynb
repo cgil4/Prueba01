{
 "cells": [
  {
   "cell_type": "markdown",
   "metadata": {},
   "source": [
    "Algoritmos I"
   ]
  },
  {
   "cell_type": "code",
   "execution_count": 6,
   "metadata": {},
   "outputs": [
    {
     "data": {
      "text/plain": [
       "[1, 2, 3, 4, 5, 6, 7, 8, 9, 10, 11, 12, 13, 14, 15, 16]"
      ]
     },
     "execution_count": 6,
     "metadata": {},
     "output_type": "execute_result"
    }
   ],
   "source": [
    "secuencia = list(range(1,17))\n",
    "secuencia"
   ]
  },
  {
   "cell_type": "markdown",
   "metadata": {},
   "source": [
    "fecha\n",
    "2022-05-01\n",
    "5/2/22\n",
    "22 de Julio 2022"
   ]
  },
  {
   "cell_type": "code",
   "execution_count": 48,
   "metadata": {},
   "outputs": [
    {
     "data": {
      "text/plain": [
       "[9, 7, 20, 6, 5, 1, 14, 18, 2, 3, 15, 19, 4, 8, 17, 13, 12, 10, 16, 11]"
      ]
     },
     "execution_count": 48,
     "metadata": {},
     "output_type": "execute_result"
    }
   ],
   "source": [
    "from random import sample\n",
    "\n",
    "azar = sample(range(1,21), 20)\n",
    "azar"
   ]
  },
  {
   "cell_type": "code",
   "execution_count": 23,
   "metadata": {},
   "outputs": [
    {
     "name": "stdout",
     "output_type": "stream",
     "text": [
      "49998\n"
     ]
    }
   ],
   "source": [
    "# O(N)\n",
    "maximo = azar[0]\n",
    "for num in azar:\n",
    "   if num > maximo: maximo = num\n",
    "print(maximo)"
   ]
  },
  {
   "cell_type": "code",
   "execution_count": 26,
   "metadata": {},
   "outputs": [
    {
     "name": "stdout",
     "output_type": "stream",
     "text": [
      "49998\n",
      "1\n"
     ]
    }
   ],
   "source": [
    "#O (2N)\n",
    "maximo = azar[0]\n",
    "for num in azar:\n",
    "   if num > maximo: maximo = num\n",
    "\n",
    "minimo = azar[0]\n",
    "for num in azar:\n",
    "   if num < minimo: minimo = num\n",
    "print(maximo)\n",
    "print(minimo)"
   ]
  },
  {
   "cell_type": "code",
   "execution_count": 30,
   "metadata": {},
   "outputs": [
    {
     "name": "stdout",
     "output_type": "stream",
     "text": [
      "49998\n",
      "1\n"
     ]
    }
   ],
   "source": [
    "maximo = azar[0]\n",
    "minimo = azar[0]\n",
    "for num in azar:\n",
    "   if num > maximo: maximo = num\n",
    "   if num < minimo: minimo = num\n",
    "\n",
    "print(maximo)\n",
    "print(minimo)"
   ]
  },
  {
   "cell_type": "code",
   "execution_count": 44,
   "metadata": {},
   "outputs": [
    {
     "data": {
      "text/plain": [
       "362880"
      ]
     },
     "execution_count": 44,
     "metadata": {},
     "output_type": "execute_result"
    }
   ],
   "source": [
    "#O(1)\n",
    "a = 9\n",
    "#Factorial !9\n",
    "a*8*7*6*5*4*3*2*1"
   ]
  },
  {
   "cell_type": "code",
   "execution_count": 46,
   "metadata": {},
   "outputs": [
    {
     "name": "stdout",
     "output_type": "stream",
     "text": [
      "1\n",
      "2\n",
      "3\n",
      "4\n",
      "5\n",
      "6\n"
     ]
    }
   ],
   "source": [
    "#O(N**2)\n",
    "matriz = [[1,2,3], [4,5,6]]\n",
    "for fila in matriz:\n",
    "   for num in fila:\n",
    "      print(num)"
   ]
  },
  {
   "cell_type": "markdown",
   "metadata": {},
   "source": [
    "0\n",
    "1\n",
    "10\n",
    "11"
   ]
  }
 ],
 "metadata": {
  "kernelspec": {
   "display_name": "Python 3.10.5 64-bit (windows store)",
   "language": "python",
   "name": "python3"
  },
  "language_info": {
   "codemirror_mode": {
    "name": "ipython",
    "version": 3
   },
   "file_extension": ".py",
   "mimetype": "text/x-python",
   "name": "python",
   "nbconvert_exporter": "python",
   "pygments_lexer": "ipython3",
   "version": "3.10.5"
  },
  "orig_nbformat": 4,
  "vscode": {
   "interpreter": {
    "hash": "65a440aeac0c89e2af7569e0aa53b64434c4b69eb6285e2b0d174d9bca190d54"
   }
  }
 },
 "nbformat": 4,
 "nbformat_minor": 2
}
