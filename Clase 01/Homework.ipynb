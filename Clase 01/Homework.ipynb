{
 "cells": [
  {
   "cell_type": "markdown",
   "metadata": {},
   "source": [
    "# Práctica Clase 1 "
   ]
  },
  {
   "cell_type": "markdown",
   "metadata": {},
   "source": [
    "1) Crear una función capaz de convertir números enteros de base 10 a base 2. Debe recibir como parámetro el número a convertir<br>\n",
    "Consideraciones:<br> \n",
    "a. Tratar de resolverlo sin usar la función format(nro,\"b\")<br>\n",
    "b. El pdf \"conversion-de-decimal-a-binario.pdf\" puede servir de ayuda.\n"
   ]
  },
  {
   "cell_type": "code",
   "execution_count": 52,
   "metadata": {},
   "outputs": [],
   "source": [
    "def NumeroBinario(numero):\n",
    "    '''\n",
    "    Esta función recibe como parámetro un número entero mayor ó igual a cero y lo devuelve en su \n",
    "    representación binaria. Debe recibir y devolver un valor de tipo entero.\n",
    "    En caso de que el parámetro no sea de tipo entero y mayor a -1 retorna nulo.\n",
    "    '''\n",
    "    if type(numero) != int or numero < 0:\n",
    "        return None\n",
    "    elif (numero == 0):\n",
    "        return 0\n",
    "    lisbin = []\n",
    "    resto = 0\n",
    "\n",
    "    while (numero > 0):\n",
    "        resto = numero % 2\n",
    "        numero = numero // 2\n",
    "        lisbin.append(resto)\n",
    "\n",
    "    binario = ''\n",
    "    for e in lisbin:\n",
    "        binario = str(e) + binario\n",
    "    \n",
    "    return int(binario)\n"
   ]
  },
  {
   "cell_type": "code",
   "execution_count": 70,
   "metadata": {},
   "outputs": [],
   "source": [
    "def NumeroBinario(numero):\n",
    "    '''\n",
    "    otra opcion\n",
    "    '''\n",
    "    if type(numero) != int or numero < 0:\n",
    "        return None\n",
    "    elif (numero == 0):\n",
    "        return 0\n",
    "    binario = ''\n",
    "    resto = 0\n",
    "\n",
    "    while (numero > 0):\n",
    "        resto = numero % 2\n",
    "        numero //= 2\n",
    "        binario += str(resto)\n",
    "  \n",
    "     \n",
    "    return int(binario[::-1])\n"
   ]
  },
  {
   "cell_type": "code",
   "execution_count": 73,
   "metadata": {},
   "outputs": [
    {
     "data": {
      "text/plain": [
       "1101"
      ]
     },
     "execution_count": 73,
     "metadata": {},
     "output_type": "execute_result"
    }
   ],
   "source": [
    "#Ejemplo:\n",
    "NumeroBinario(13)"
   ]
  },
  {
   "cell_type": "markdown",
   "metadata": {},
   "source": [
    "2) Convertir de decimal a binario las fracciones 1/2, 1/3, 1/4, 1/5, 1/6, 1/7, 1/8, 1/9. Luego analizar los resultados y observar qué particularidad se encuentra en los mismos. Se puede usar Python o una calculadora, lo importante es ver si hay algo que podemos notar..."
   ]
  },
  {
   "cell_type": "code",
   "execution_count": 55,
   "metadata": {},
   "outputs": [],
   "source": [
    "def Binafrac(numdec):\n",
    "    if type (numdec) != float or  numdec < 0 or numdec > 1:\n",
    "        return None\n",
    "    elif (numdec == 0):\n",
    "        return 0\n",
    "\n",
    "    limite = 24\n",
    "    listabin = []\n",
    "    i=0\n",
    "    while (numdec > 0) and (i < limite):\n",
    "        listabin.append(int(numdec * 2))\n",
    "        numdec = numdec * 2 - int(numdec * 2)\n",
    "        i+=1\n",
    "\n",
    "    numbin = '0.'\n",
    "    for e in listabin:\n",
    "        numbin = numbin + str(e)\n",
    "    return numbin\n",
    "\n"
   ]
  },
  {
   "cell_type": "code",
   "execution_count": 74,
   "metadata": {},
   "outputs": [
    {
     "name": "stdout",
     "output_type": "stream",
     "text": [
      "None\n"
     ]
    }
   ],
   "source": [
    "print(Binafrac(13))\n"
   ]
  },
  {
   "cell_type": "code",
   "execution_count": 75,
   "metadata": {},
   "outputs": [
    {
     "data": {
      "text/plain": [
       "'0b1101'"
      ]
     },
     "execution_count": 75,
     "metadata": {},
     "output_type": "execute_result"
    }
   ],
   "source": [
    "bin(13)"
   ]
  },
  {
   "cell_type": "code",
   "execution_count": 42,
   "metadata": {},
   "outputs": [
    {
     "name": "stdout",
     "output_type": "stream",
     "text": [
      "Fraccion 1 / 2 : 0.5  y en binario : 0.1\n",
      "Fraccion 1 / 3 : 0.3333333333333333  y en binario : 0.01010101010101010101\n",
      "Fraccion 1 / 4 : 0.25  y en binario : 0.01\n",
      "Fraccion 1 / 5 : 0.2  y en binario : 0.00110011001100110011\n",
      "Fraccion 1 / 6 : 0.16666666666666666  y en binario : 0.00101010101010101010\n",
      "Fraccion 1 / 7 : 0.14285714285714285  y en binario : 0.00100100100100100100\n",
      "Fraccion 1 / 8 : 0.125  y en binario : 0.001\n",
      "Fraccion 1 / 9 : 0.1111111111111111  y en binario : 0.00011100011100011100\n"
     ]
    }
   ],
   "source": [
    "for i in range(2,10):\n",
    "    print('Fraccion 1 /', i, ':', str(1/i), ' y en binario :', Binafrac(1/i))"
   ]
  },
  {
   "cell_type": "markdown",
   "metadata": {},
   "source": [
    "Salida esperada:\n",
    "* Fraccion 1 / 2 :  0.5  y En binario:  0.1\n",
    "* Fraccion 1 / 3 :  0.3333333333333333  y En binario:  0.010101010101010101010101\n",
    "* Fraccion 1 / 4 :  0.25  y En binario:  0.01\n",
    "* Fraccion 1 / 5 :  0.2  y En binario:  0.001100110011001100110011\n",
    "* Fraccion 1 / 6 :  0.16666666666666666  y En binario:  0.001010101010101010101010\n",
    "* Fraccion 1 / 7 :  0.14285714285714285  y En binario:  0.001001001001001001001001\n",
    "* Fraccion 1 / 8 :  0.125  y En binario:  0.001\n",
    "* Fraccion 1 / 9 :  0.1111111111111111  y En binario:  0.000111000111000111000111"
   ]
  }
 ],
 "metadata": {
  "kernelspec": {
   "display_name": "Python 3.10.5 64-bit",
   "language": "python",
   "name": "python3"
  },
  "language_info": {
   "codemirror_mode": {
    "name": "ipython",
    "version": 3
   },
   "file_extension": ".py",
   "mimetype": "text/x-python",
   "name": "python",
   "nbconvert_exporter": "python",
   "pygments_lexer": "ipython3",
   "version": "3.10.5"
  },
  "orig_nbformat": 4,
  "vscode": {
   "interpreter": {
    "hash": "27f6fea6f47ae512550f0b8facdbd035a93e1dd89633f7bf2dd00a2502c71d0d"
   }
  }
 },
 "nbformat": 4,
 "nbformat_minor": 2
}
