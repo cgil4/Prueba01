{
 "cells": [
  {
   "cell_type": "markdown",
   "metadata": {},
   "source": [
    "Tarea bonus"
   ]
  },
  {
   "cell_type": "markdown",
   "metadata": {},
   "source": [
    "Versión CSV"
   ]
  },
  {
   "cell_type": "code",
   "execution_count": null,
   "metadata": {},
   "outputs": [],
   "source": [
    "import csv"
   ]
  },
  {
   "cell_type": "code",
   "execution_count": null,
   "metadata": {},
   "outputs": [],
   "source": [
    "archivo = open('hospitales2.csv', encoding='utf-8')\n",
    "tabla = csv.reader(archivo)\n",
    "with open('hospitales_salida.csv', 'w', encoding='utf-8', newline='') as salida:\n",
    "   salida_writer = csv.writer(salida)\n",
    "   next(tabla)\n",
    "   salida_writer.writerow(['latitude', 'longitude', 'name', 'label'])\n",
    "   for linea in tabla:\n",
    "      coordenadas = linea[0][7:-1].split()\n",
    "      #print(coordenadas)\n",
    "      salida_writer.writerow([coordenadas[1], coordenadas[0], linea[8], linea[3]])\n",
    "archivo.close()"
   ]
  },
  {
   "cell_type": "markdown",
   "metadata": {},
   "source": [
    "Pandas"
   ]
  },
  {
   "cell_type": "code",
   "execution_count": null,
   "metadata": {},
   "outputs": [],
   "source": [
    "import pandas as pd"
   ]
  },
  {
   "cell_type": "code",
   "execution_count": 21,
   "metadata": {},
   "outputs": [],
   "source": [
    "df = pd.read_csv('hospitales2.csv', encoding='utf-8')\n",
    "#for\n",
    "# coordenadas = []\n",
    "# for coor in df['WKT']:\n",
    "#    coordenadas.append(coor.split())\n",
    "#Comprensión de listas\n",
    "coordenadas = [coor.split() for coor in df['WKT']]\n",
    "longitud = [float(elemento[1].strip('(')) for elemento in coordenadas]\n",
    "latitud = [float(elemento[2].strip(')')) for elemento in coordenadas]\n"
   ]
  },
  {
   "cell_type": "code",
   "execution_count": 24,
   "metadata": {},
   "outputs": [],
   "source": [
    "datos = dict(latitude=latitud, longitude=longitud, name=df['DOM_NORMA'], label=df['NOM_MAP'])\n",
    "pd.DataFrame(datos).to_csv('hospitales_salida2.csv', index=False)"
   ]
  }
 ],
 "metadata": {
  "kernelspec": {
   "display_name": "Python 3.9.7 64-bit",
   "language": "python",
   "name": "python3"
  },
  "language_info": {
   "codemirror_mode": {
    "name": "ipython",
    "version": 3
   },
   "file_extension": ".py",
   "mimetype": "text/x-python",
   "name": "python",
   "nbconvert_exporter": "python",
   "pygments_lexer": "ipython3",
   "version": "3.9.7"
  },
  "orig_nbformat": 4,
  "vscode": {
   "interpreter": {
    "hash": "11938c6bc6919ae2720b4d5011047913343b08a43b18698fd82dedb0d4417594"
   }
  }
 },
 "nbformat": 4,
 "nbformat_minor": 2
}
