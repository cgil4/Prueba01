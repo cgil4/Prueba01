{
 "cells": [
  {
   "cell_type": "code",
   "execution_count": 11,
   "metadata": {},
   "outputs": [],
   "source": [
    "import numpy as np\n",
    "import pandas as pd"
   ]
  },
  {
   "cell_type": "markdown",
   "metadata": {},
   "source": [
    "Crear un csv a partir de otro ya creado"
   ]
  },
  {
   "cell_type": "code",
   "execution_count": 10,
   "metadata": {},
   "outputs": [],
   "source": [
    "import csv\n",
    "archivo = open(r'C:\\Users\\ASUS\\Desktop\\Progarmacion\\Modulo1\\Prueba01\\Clase 04\\hospitales2.csv', encoding='utf-8')\n",
    "tabla = csv.reader(archivo) #delimiter para separar por ejemplo por comas\n",
    "with open('salida.csv', 'w', encoding='utf-8',newline='') as salida :  #newline para no dejar el espacio\n",
    "    salidaw = csv.writer(salida)\n",
    "    next (tabla)\n",
    "    salidaw.writerow (['latitude','longitud','name','label'])\n",
    "    for linea in tabla:\n",
    "        coordenadas = linea[0][7:-1].split()\n",
    "        salidaw.writerow ([coordenadas[1],coordenadas[0],linea[3],linea[8]])\n",
    "        #print(coordenadas)"
   ]
  },
  {
   "cell_type": "code",
   "execution_count": 22,
   "metadata": {},
   "outputs": [
    {
     "data": {
      "text/plain": [
       "[-34.6288473603881,\n",
       " -34.5941919726393,\n",
       " -34.5845283357505,\n",
       " -34.6394041316484,\n",
       " -34.6341535760002,\n",
       " -34.6084721257413,\n",
       " -34.6302112044495,\n",
       " -34.6357022351559,\n",
       " -34.6364350546569,\n",
       " -34.6388917320834,\n",
       " -34.5538963316473,\n",
       " -34.634856308415,\n",
       " -34.6054342750207,\n",
       " -34.6146348348429,\n",
       " -34.6070507603866,\n",
       " -34.6255031952483,\n",
       " -34.6227125075124,\n",
       " -34.6179817540591,\n",
       " -34.6375293258416,\n",
       " -34.5972098729151,\n",
       " -34.5847659581214,\n",
       " -34.6283448581677,\n",
       " -34.581141710889,\n",
       " -34.6089728538414,\n",
       " -34.6241704940114,\n",
       " -34.6176598438607,\n",
       " -34.565051956568,\n",
       " -34.599979524264,\n",
       " -34.6253367952668,\n",
       " -34.6491867281064,\n",
       " -34.6431172591975,\n",
       " -34.5873917690227,\n",
       " -34.643894071866,\n",
       " -34.6718480140772,\n",
       " -34.6299453614404,\n",
       " -34.6419888014928]"
      ]
     },
     "execution_count": 22,
     "metadata": {},
     "output_type": "execute_result"
    }
   ],
   "source": [
    "# con panda\n",
    "\n",
    "df = pd.read_csv('hospitales2.csv', encoding='utf-8')\n",
    "# df['WKT'] # muestra los valores de esa columna\n",
    "coordenadas = [coord.split() for coord in df['WKT']]\n",
    "longitude = [float(elemento[1].strip('(')) for elemento in coordenadas]\n",
    "latitude = [float(elemento[2].strip(')')) for elemento in coordenadas]\n",
    "latitude"
   ]
  },
  {
   "cell_type": "code",
   "execution_count": 28,
   "metadata": {},
   "outputs": [
    {
     "data": {
      "text/plain": [
       "{'latitude': [-34.6288473603881,\n",
       "  -34.5941919726393,\n",
       "  -34.5845283357505,\n",
       "  -34.6394041316484,\n",
       "  -34.6341535760002,\n",
       "  -34.6084721257413,\n",
       "  -34.6302112044495,\n",
       "  -34.6357022351559,\n",
       "  -34.6364350546569,\n",
       "  -34.6388917320834,\n",
       "  -34.5538963316473,\n",
       "  -34.634856308415,\n",
       "  -34.6054342750207,\n",
       "  -34.6146348348429,\n",
       "  -34.6070507603866,\n",
       "  -34.6255031952483,\n",
       "  -34.6227125075124,\n",
       "  -34.6179817540591,\n",
       "  -34.6375293258416,\n",
       "  -34.5972098729151,\n",
       "  -34.5847659581214,\n",
       "  -34.6283448581677,\n",
       "  -34.581141710889,\n",
       "  -34.6089728538414,\n",
       "  -34.6241704940114,\n",
       "  -34.6176598438607,\n",
       "  -34.565051956568,\n",
       "  -34.599979524264,\n",
       "  -34.6253367952668,\n",
       "  -34.6491867281064,\n",
       "  -34.6431172591975,\n",
       "  -34.5873917690227,\n",
       "  -34.643894071866,\n",
       "  -34.6718480140772,\n",
       "  -34.6299453614404,\n",
       "  -34.6419888014928],\n",
       " 'longitude': [-58.3775508488443,\n",
       "  -58.4120700769456,\n",
       "  -58.4027276547828,\n",
       "  -58.3851559118889,\n",
       "  -58.3913114406535,\n",
       "  -58.4349433479819,\n",
       "  -58.3758433488021,\n",
       "  -58.3823284509488,\n",
       "  -58.3821283746958,\n",
       "  -58.3601201271455,\n",
       "  -58.4409882382439,\n",
       "  -58.4027506275377,\n",
       "  -58.4601855775528,\n",
       "  -58.4276597542837,\n",
       "  -58.4332484381295,\n",
       "  -58.4323966950244,\n",
       "  -58.3940641604746,\n",
       "  -58.5021449222222,\n",
       "  -58.3937269413225,\n",
       "  -58.4752588459761,\n",
       "  -58.4005134574423,\n",
       "  -58.365985088719,\n",
       "  -58.4068939142787,\n",
       "  -58.437981361705,\n",
       "  -58.4695020363265,\n",
       "  -58.4096107488155,\n",
       "  -58.4710781593251,\n",
       "  -58.5110525000569,\n",
       "  -58.50761514092,\n",
       "  -58.5156291936709,\n",
       "  -58.4108602188291,\n",
       "  -58.4710976282168,\n",
       "  -58.4541167814714,\n",
       "  -58.4566428491103,\n",
       "  -58.3918791813882,\n",
       "  -58.3814293381891],\n",
       " 'name': 0             MONTES DE OCA, MANUEL AV. 40\n",
       " 1                               GALLO 1330\n",
       " 2               SANCHEZ DE BUSTAMANTE 2529\n",
       " 3                            BRANDSEN 2570\n",
       " 4                         CASEROS AV. 2061\n",
       " 5                      DIAZ VELEZ AV. 4821\n",
       " 6              FINOCHIETTO ENRIQUE DR. 849\n",
       " 7                 CARRILLO, RAMON, DR. 315\n",
       " 8                 CARRILLO, RAMON, DR. 375\n",
       " 9            DON PEDRO DE MENDOZA AV. 1795\n",
       " 10                          ECHEVERRIA 955\n",
       " 11                   LUCA, ESTEBAN DE 2151\n",
       " 12                 JUSTO, JUAN B. AV. 4151\n",
       " 13                                MUÑIZ 15\n",
       " 14            PATRICIAS ARGENTINAS AV. 150\n",
       " 15                   GOYENA, PEDRO AV. 369\n",
       " 16                       SAN JUAN AV. 2021\n",
       " 17                       SEGUROLA AV. 1949\n",
       " 18                          USPALLATA 2272\n",
       " 19                         WARNES AV. 2630\n",
       " 20              LAS HERAS GENERAL AV. 2670\n",
       " 21                        PI Y MARGALL 750\n",
       " 22                        CERVIÑO AV. 3356\n",
       " 23                     DIAZ VELEZ AV. 5044\n",
       " 24            ARANGUREN, JUAN F., DR. 2701\n",
       " 25                      URQUIZA, GRAL. 609\n",
       " 26                         MONROE AV. 3555\n",
       " 27                         NUEVA YORK 3952\n",
       " 28        CALDERON DE LA BARCA, PEDRO 1550\n",
       " 29                               PILAR 950\n",
       " 30          CHUTRO, PEDRO, PROF., DR. 3380\n",
       " 31       COMBATIENTES DE MALVINAS AV. 3002\n",
       " 32                         VARELA AV. 1301\n",
       " 33    FERNANDEZ DE LA CRUZ, F., GRAL. 4402\n",
       " 34               COMBATE DE LOS POZOS 1881\n",
       " 35                         SUAREZ AV. 2215\n",
       " Name: DOM_NORMA, dtype: object,\n",
       " 'label': 0                                HOSP. DE ELIZALDE\n",
       " 1                                  HOSP. GUTIERREZ\n",
       " 2                      HOSP. ODONTOLOGICO CARRILLO\n",
       " 3                                     HOSP. MOYANO\n",
       " 4                                    HOSP. UDAONDO\n",
       " 5                                    INST. PASTEUR\n",
       " 6                                     HOSP. FERRER\n",
       " 7                               HOSP. TOBAR GARCIA\n",
       " 8                                      HOSP. BORDA\n",
       " 9     HOSP. ODONTOLOGICO INFANTIL QUINQUELA MARTIN\n",
       " 10                     INST. DE REHAB. PSICOFISICA\n",
       " 11                                     HOSP. SARDA\n",
       " 12                                  HOSP. LAGLEYZE\n",
       " 13                       HOSP. ODONTOLOGICO DUEÑAS\n",
       " 14                                     HOSP. CURIE\n",
       " 15                   HOSP. DE QUEMADOS A. U. ILLIA\n",
       " 16                               HOSP. SANTA LUCIA\n",
       " 17                           HOSP. DE REHAB. ROCCA\n",
       " 18                                     HOSP. MUÑIZ\n",
       " 19                              HOSP. T. DE ALVEAR\n",
       " 20                                 HOSP. RIVADAVIA\n",
       " 21                                  HOSP. ARGERICH\n",
       " 22                                 HOSP. FERNANDEZ\n",
       " 23                                    HOSP. DURAND\n",
       " 24                                   HOSP. ALVAREZ\n",
       " 25                               HOSP. RAMOS MEJIA\n",
       " 26                                  HOSP. PIROVANO\n",
       " 27                               HOSP. ZUBIZARRETA\n",
       " 28                           HOSP. VELEZ SARSFIELD\n",
       " 29                                HOSP. SANTOJANNI\n",
       " 30                                     HOSP. PENNA\n",
       " 31                                     HOSP. TORNU\n",
       " 32                                    HOSP. PIÑERO\n",
       " 33                                  HOSP. GRIERSON\n",
       " 34                                  HOSP. GARRAHAN\n",
       " 35                 TALLERES DE REHAB. PSIQUIATRICA\n",
       " Name: NOM_MAP, dtype: object}"
      ]
     },
     "execution_count": 28,
     "metadata": {},
     "output_type": "execute_result"
    }
   ],
   "source": [
    "datos = dict(latitude = latitude, longitude = longitude,name = df['DOM_NORMA'], label = df['NOM_MAP'] )\n",
    "pd.DataFrame(datos).to_csv('salida2.csv', index=False)\n"
   ]
  },
  {
   "cell_type": "code",
   "execution_count": 9,
   "metadata": {},
   "outputs": [
    {
     "data": {
      "text/plain": [
       "<_csv.reader at 0x1ff847b9c60>"
      ]
     },
     "execution_count": 9,
     "metadata": {},
     "output_type": "execute_result"
    }
   ],
   "source": [
    "tabla"
   ]
  }
 ],
 "metadata": {
  "kernelspec": {
   "display_name": "Python 3.10.5 64-bit",
   "language": "python",
   "name": "python3"
  },
  "language_info": {
   "codemirror_mode": {
    "name": "ipython",
    "version": 3
   },
   "file_extension": ".py",
   "mimetype": "text/x-python",
   "name": "python",
   "nbconvert_exporter": "python",
   "pygments_lexer": "ipython3",
   "version": "3.10.5"
  },
  "orig_nbformat": 4,
  "vscode": {
   "interpreter": {
    "hash": "27f6fea6f47ae512550f0b8facdbd035a93e1dd89633f7bf2dd00a2502c71d0d"
   }
  }
 },
 "nbformat": 4,
 "nbformat_minor": 2
}
