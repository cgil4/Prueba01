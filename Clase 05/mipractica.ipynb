{
 "cells": [
  {
   "cell_type": "code",
   "execution_count": 8,
   "metadata": {},
   "outputs": [],
   "source": [
    " class EstructuraPila(object):\n",
    "    def __init__(self):\n",
    "         self.__list = []\n",
    " \n",
    "    # Agregar un elemento en la Cola\n",
    "    def push(self, item):\n",
    "        self.__list.append(item)\n",
    "\n",
    "    # Quitar un elemento de la Cola\n",
    "    def pop(self):\n",
    "        return self.__list.pop(0)\n",
    "\n",
    "    # Verificar si la Cola está vacía\n",
    "    def is_empty(self):\n",
    "        return self.__list == []\n",
    " \n",
    "     # Devolver cantidad de elementos den la Cola\n",
    "    def size(self):\n",
    "       return len(self.__list)"
   ]
  },
  {
   "cell_type": "code",
   "execution_count": 10,
   "metadata": {},
   "outputs": [
    {
     "name": "stdout",
     "output_type": "stream",
     "text": [
      "<__main__.EstructuraPila object at 0x000001A7D6B25CC0>\n"
     ]
    }
   ],
   "source": [
    "pila = EstructuraPila()\n",
    "pila.push (4)\n",
    "pila.push (8)\n",
    "pila.pop\n",
    "print(pila)"
   ]
  }
 ],
 "metadata": {
  "kernelspec": {
   "display_name": "Python 3.10.5 64-bit (windows store)",
   "language": "python",
   "name": "python3"
  },
  "language_info": {
   "codemirror_mode": {
    "name": "ipython",
    "version": 3
   },
   "file_extension": ".py",
   "mimetype": "text/x-python",
   "name": "python",
   "nbconvert_exporter": "python",
   "pygments_lexer": "ipython3",
   "version": "3.10.6"
  },
  "orig_nbformat": 4,
  "vscode": {
   "interpreter": {
    "hash": "65a440aeac0c89e2af7569e0aa53b64434c4b69eb6285e2b0d174d9bca190d54"
   }
  }
 },
 "nbformat": 4,
 "nbformat_minor": 2
}
