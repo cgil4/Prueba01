{
 "cells": [
  {
   "cell_type": "markdown",
   "metadata": {},
   "source": [
    "# Práctica Clase 5"
   ]
  },
  {
   "cell_type": "markdown",
   "metadata": {},
   "source": [
    "1) Implementar un juego, que consista en apilar números enteros del 1 al 20, de forma aleatoria, para lo cual debe usarse una estructura de Pila. \n",
    "Luego, el usuario debe elegir un número de veces en que se va a quitar elementos de la pila, los cuales, sumados entre sí, no deben superar el valor de 50.\n",
    "El usuario pierde si la suma supera ese valor. Si no lo supera, gana, pero su calificación será 10 menos el número elementos que falten quitar para todavía no superar 50.\n",
    "El programa debe informar si perdió, y si ganó, con qué calificación lo hizo.\n",
    "\n",
    "Consideraciones:<br>\n",
    "a. Se puede usar la función input() para obtener una entrada de teclado.<br>\n",
    "b. Se puede usar la el modulo random para obtener valores aleatorios."
   ]
  },
  {
   "cell_type": "code",
   "execution_count": 3,
   "metadata": {},
   "outputs": [],
   "source": [
    "import random\n",
    "\n",
    "class juego:\n",
    "    def __init__(self):\n",
    "        self.__lista = []\n",
    "    \n",
    "    def crearpila (self):\n",
    "        self.__lista = random.sample(range(1,21),20)\n",
    "        print(self.__lista)\n",
    "    \n",
    "    def jugar(self):\n",
    "        self.crearpila()\n",
    "        nro = input(\"indicar numero de cartas requeridas: \")\n",
    "        while True:\n",
    "            \n",
    "            if not nro.isdecimal():\n",
    "                nro = input(\"Numero es decimal indicar numero de cartas requeridas (entero): \")\n",
    "            else:\n",
    "                nro = int(nro)\n",
    "                if nro <= 20: break\n",
    "                else: \n",
    "                    print(\"el numero tiene que ser menor que 21\")\n",
    "                    nro ='a'\n",
    "        print('pila original')\n",
    "        self.__mostrapila()\n",
    "\n",
    "        calificacion = 10\n",
    "        suma = 0\n",
    "        for i in range(nro):\n",
    "            suma = suma + self.__pop()\n",
    "        print('pila obtenida')\n",
    "        self.__mostrapila\n",
    "\n",
    "        print ('con esta cantidad de elemento suma', suma)\n",
    "\n",
    "        if suma > 50:\n",
    "            print (' se pasa de 50 perdiste')\n",
    "        else:\n",
    "            while suma <= 50:\n",
    "                suma += self.__pop()\n",
    "                calificacion -=1\n",
    "            print('gano bien',calificacion)\n",
    "\n",
    "    def  __mostrapila(self):\n",
    "        print(self.__lista)\n",
    "    \n",
    "    def __pop(self):\n",
    "        return self.__lista.pop()"
   ]
  },
  {
   "cell_type": "code",
   "execution_count": 62,
   "metadata": {},
   "outputs": [
    {
     "name": "stdout",
     "output_type": "stream",
     "text": [
      "[1, 11, 13, 20, 6, 19, 18, 14, 12, 2, 3, 17, 8, 16, 10, 5, 15, 4, 7, 9]\n",
      "pila original\n",
      "[1, 11, 13, 20, 6, 19, 18, 14, 12, 2, 3, 17, 8, 16, 10, 5, 15, 4, 7, 9]\n",
      "pila obtenida\n",
      "con esta cantidad de elemento suma 40\n",
      "gano bien 8\n"
     ]
    }
   ],
   "source": [
    "j = juego()\n",
    "j.jugar()"
   ]
  },
  {
   "cell_type": "code",
   "execution_count": 9,
   "metadata": {},
   "outputs": [
    {
     "name": "stdout",
     "output_type": "stream",
     "text": [
      "[12, 11, 17, 9, 7, 4, 15, 19, 16, 10, 13, 18, 8, 2, 20, 5, 6, 1, 3, 14]\n"
     ]
    }
   ],
   "source": [
    "pila = juego()\n",
    "pila.crearpila()"
   ]
  },
  {
   "cell_type": "code",
   "execution_count": 1,
   "metadata": {},
   "outputs": [],
   "source": [
    "# otra forma\n",
    "import random as r\n",
    "\n",
    "class JuegoPila:\n",
    "    def __init__(self):\n",
    "        #self.__lista = []\n",
    "        #while len(self.__lista) < 20:\n",
    "            #numero = r.randint(1,20)\n",
    "            #if numero not in self.__lista: self.__lista.appemd(numero)\n",
    "#otra version\n",
    "        self.__lista = r.sample(range(1,21),20)\n",
    "        #print(self.__lista)\n",
    "\n",
    "        #quitar elemento de la lista\n",
    "    def __pop(self):\n",
    "        return self.__lista.pop()\n",
    "\n",
    "    def __mostrarPila(self):\n",
    "        print(self.__lista)\n",
    "    \n",
    "    def jugar(self):\n",
    "        nro = input(\"ingrese la cantidad de elementos\")\n",
    "        while not nro.isdecimal():\n",
    "            nro = input(\"tiene que ser un entero intente nuevamente\")\n",
    "        nro = int(nro)\n",
    "\n",
    "        print('pila original:')\n",
    "        self.__mostrarPila()\n",
    "\n",
    "        calificacion = 10\n",
    "        suma = 0\n",
    "        for i in range(nro):\n",
    "            suma += self.__pop()\n",
    "\n",
    "        print('pila obtenida: ')\n",
    "        self.__mostrarPila()\n"
   ]
  },
  {
   "cell_type": "code",
   "execution_count": 2,
   "metadata": {},
   "outputs": [
    {
     "data": {
      "text/plain": [
       "<bound method JuegoPila.jugar of <__main__.JuegoPila object at 0x00000216559FDF90>>"
      ]
     },
     "execution_count": 2,
     "metadata": {},
     "output_type": "execute_result"
    }
   ],
   "source": [
    "j = JuegoPila()\n",
    "j.jugar"
   ]
  },
  {
   "cell_type": "markdown",
   "metadata": {},
   "source": [
    "2) Implementar un juego donde constas de 2 jarras, de capacidad 5 y 3 litros respectivamente, y debes colocar 4 litros en la jarra de 5L.\n",
    "Las opciones posibles son:\n",
    "* Llenar la jarra de 3 litros\n",
    "* Llenar la jarra de 5 litros\n",
    "* Vaciar la jarra de 3 litros\n",
    "* Vaciar la jarra de 5 litros\n",
    "* Verter el contenido de la jarra de 3 litros en la de 5 litros\n",
    "* Verter el contenido de la jarra de 5 litros en la de 3 litros"
   ]
  }
 ],
 "metadata": {
  "kernelspec": {
   "display_name": "Python 3.10.5 64-bit (windows store)",
   "language": "python",
   "name": "python3"
  },
  "language_info": {
   "codemirror_mode": {
    "name": "ipython",
    "version": 3
   },
   "file_extension": ".py",
   "mimetype": "text/x-python",
   "name": "python",
   "nbconvert_exporter": "python",
   "pygments_lexer": "ipython3",
   "version": "3.10.6"
  },
  "vscode": {
   "interpreter": {
    "hash": "65a440aeac0c89e2af7569e0aa53b64434c4b69eb6285e2b0d174d9bca190d54"
   }
  }
 },
 "nbformat": 4,
 "nbformat_minor": 4
}
